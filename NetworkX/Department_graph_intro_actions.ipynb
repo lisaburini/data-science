{
 "cells": [
  {
   "cell_type": "code",
   "execution_count": 7,
   "id": "4b140976",
   "metadata": {},
   "outputs": [],
   "source": [
    "dizionario = {}\n",
    "with open(\"email-Eu-core-department-labels.txt\", \"r\") as f:\n",
    "    for line in f:\n",
    "        s = line.strip()\n",
    "        a, b = s.split(\" \")\n",
    "        dizionario[int(a)] = int(b)\n",
    "        \n",
    "#print(dizionario)"
   ]
  },
  {
   "cell_type": "code",
   "execution_count": 8,
   "id": "2082d0c8",
   "metadata": {},
   "outputs": [],
   "source": [
    "list_a = []\n",
    "list_b = []\n",
    "with open(\"email-Eu-core.txt\", \"r\") as f:\n",
    "    for line in f:\n",
    "        s = line.strip()\n",
    "        a, b = s.split(\" \")\n",
    "        list_a.append(int(a))\n",
    "        list_b.append(int(b))"
   ]
  },
  {
   "cell_type": "code",
   "execution_count": 9,
   "id": "06ceda5f",
   "metadata": {},
   "outputs": [],
   "source": [
    "replaced_list_A = [dizionario[x] for x in list_a]\n",
    "\n",
    "replaced_list_B = [dizionario[x] for x in list_b]"
   ]
  },
  {
   "cell_type": "code",
   "execution_count": 10,
   "id": "5bc508f8",
   "metadata": {},
   "outputs": [],
   "source": [
    "zip(replaced_list_A, replaced_list_B)\n",
    "import csv\n",
    "with open('link_departments.txt', 'w', newline='') as f:\n",
    "    writer = csv.writer(f, delimiter=' ')\n",
    "    writer.writerows(zip(replaced_list_A, replaced_list_B))"
   ]
  }
 ],
 "metadata": {
  "kernelspec": {
   "display_name": "Python 3 (ipykernel)",
   "language": "python",
   "name": "python3"
  },
  "language_info": {
   "codemirror_mode": {
    "name": "ipython",
    "version": 3
   },
   "file_extension": ".py",
   "mimetype": "text/x-python",
   "name": "python",
   "nbconvert_exporter": "python",
   "pygments_lexer": "ipython3",
   "version": "3.9.16"
  }
 },
 "nbformat": 4,
 "nbformat_minor": 5
}
