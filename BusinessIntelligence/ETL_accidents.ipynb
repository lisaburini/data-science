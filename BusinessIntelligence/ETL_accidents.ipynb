{
 "cells": [
  {
   "cell_type": "code",
   "execution_count": 14,
   "metadata": {},
   "outputs": [],
   "source": [
    "import pandas as pd"
   ]
  },
  {
   "cell_type": "code",
   "execution_count": 15,
   "metadata": {},
   "outputs": [],
   "source": [
    "full_dataset = pd.read_csv(r'US_Accidents_Dec21_updated.csv')"
   ]
  },
  {
   "cell_type": "code",
   "execution_count": 16,
   "metadata": {},
   "outputs": [
    {
     "name": "stdout",
     "output_type": "stream",
     "text": [
      "                ID  Severity           Start_Time             End_Time  \\\n",
      "0              A-1         3  2016-02-08 00:37:08  2016-02-08 06:37:08   \n",
      "1              A-2         2  2016-02-08 05:56:20  2016-02-08 11:56:20   \n",
      "2              A-3         2  2016-02-08 06:15:39  2016-02-08 12:15:39   \n",
      "3              A-4         2  2016-02-08 06:51:45  2016-02-08 12:51:45   \n",
      "4              A-5         3  2016-02-08 07:53:43  2016-02-08 13:53:43   \n",
      "...            ...       ...                  ...                  ...   \n",
      "2845337  A-2845338         2  2019-08-23 18:03:25  2019-08-23 18:32:01   \n",
      "2845338  A-2845339         2  2019-08-23 19:11:30  2019-08-23 19:38:23   \n",
      "2845339  A-2845340         2  2019-08-23 19:00:21  2019-08-23 19:28:49   \n",
      "2845340  A-2845341         2  2019-08-23 19:00:21  2019-08-23 19:29:42   \n",
      "2845341  A-2845342         2  2019-08-23 18:52:06  2019-08-23 19:21:31   \n",
      "\n",
      "         Start_Lat   Start_Lng    End_Lat     End_Lng  Distance(mi)  \\\n",
      "0        40.108910  -83.092860  40.112060  -83.031870         3.230   \n",
      "1        39.865420  -84.062800  39.865010  -84.048730         0.747   \n",
      "2        39.102660  -84.524680  39.102090  -84.523960         0.055   \n",
      "3        41.062130  -81.537840  41.062170  -81.535470         0.123   \n",
      "4        39.172393  -84.492792  39.170476  -84.501798         0.500   \n",
      "...            ...         ...        ...         ...           ...   \n",
      "2845337  34.002480 -117.379360  33.998880 -117.370940         0.543   \n",
      "2845338  32.766960 -117.148060  32.765550 -117.153630         0.338   \n",
      "2845339  33.775450 -117.847790  33.777400 -117.857270         0.561   \n",
      "2845340  33.992460 -118.403020  33.983110 -118.395650         0.772   \n",
      "2845341  34.133930 -117.230920  34.137360 -117.239340         0.537   \n",
      "\n",
      "                                               Description  ...  Roundabout  \\\n",
      "0        Between Sawmill Rd/Exit 20 and OH-315/Olentang...  ...       False   \n",
      "1                       At OH-4/OH-235/Exit 41 - Accident.  ...       False   \n",
      "2                         At I-71/US-50/Exit 1 - Accident.  ...       False   \n",
      "3                          At Dart Ave/Exit 21 - Accident.  ...       False   \n",
      "4                       At Mitchell Ave/Exit 6 - Accident.  ...       False   \n",
      "...                                                    ...  ...         ...   \n",
      "2845337                           At Market St - Accident.  ...       False   \n",
      "2845338    At Camino Del Rio/Mission Center Rd - Accident.  ...       False   \n",
      "2845339  At Glassell St/Grand Ave - Accident. in the ri...  ...       False   \n",
      "2845340     At CA-90/Marina Fwy/Jefferson Blvd - Accident.  ...       False   \n",
      "2845341              At Highland Ave/Arden Ave - Accident.  ...       False   \n",
      "\n",
      "        Station   Stop Traffic_Calming Traffic_Signal Turning_Loop  \\\n",
      "0         False  False           False          False        False   \n",
      "1         False  False           False          False        False   \n",
      "2         False  False           False          False        False   \n",
      "3         False  False           False          False        False   \n",
      "4         False  False           False          False        False   \n",
      "...         ...    ...             ...            ...          ...   \n",
      "2845337   False  False           False          False        False   \n",
      "2845338   False  False           False          False        False   \n",
      "2845339   False  False           False          False        False   \n",
      "2845340   False  False           False          False        False   \n",
      "2845341   False  False           False          False        False   \n",
      "\n",
      "        Sunrise_Sunset Civil_Twilight Nautical_Twilight Astronomical_Twilight  \n",
      "0                Night          Night             Night                 Night  \n",
      "1                Night          Night             Night                 Night  \n",
      "2                Night          Night             Night                   Day  \n",
      "3                Night          Night               Day                   Day  \n",
      "4                  Day            Day               Day                   Day  \n",
      "...                ...            ...               ...                   ...  \n",
      "2845337            Day            Day               Day                   Day  \n",
      "2845338            Day            Day               Day                   Day  \n",
      "2845339            Day            Day               Day                   Day  \n",
      "2845340            Day            Day               Day                   Day  \n",
      "2845341            Day            Day               Day                   Day  \n",
      "\n",
      "[2845342 rows x 47 columns]\n"
     ]
    }
   ],
   "source": [
    "print(full_dataset)"
   ]
  },
  {
   "cell_type": "code",
   "execution_count": 17,
   "metadata": {},
   "outputs": [
    {
     "name": "stdout",
     "output_type": "stream",
     "text": [
      "                ID  Severity           Start_Time             End_Time  \\\n",
      "1              A-2         2  2016-02-08 05:56:20  2016-02-08 11:56:20   \n",
      "2              A-3         2  2016-02-08 06:15:39  2016-02-08 12:15:39   \n",
      "3              A-4         2  2016-02-08 06:51:45  2016-02-08 12:51:45   \n",
      "5              A-6         2  2016-02-08 08:16:57  2016-02-08 14:16:57   \n",
      "6              A-7         2  2016-02-08 08:15:41  2016-02-08 14:15:41   \n",
      "...            ...       ...                  ...                  ...   \n",
      "2845337  A-2845338         2  2019-08-23 18:03:25  2019-08-23 18:32:01   \n",
      "2845338  A-2845339         2  2019-08-23 19:11:30  2019-08-23 19:38:23   \n",
      "2845339  A-2845340         2  2019-08-23 19:00:21  2019-08-23 19:28:49   \n",
      "2845340  A-2845341         2  2019-08-23 19:00:21  2019-08-23 19:29:42   \n",
      "2845341  A-2845342         2  2019-08-23 18:52:06  2019-08-23 19:21:31   \n",
      "\n",
      "         Start_Lat  Start_Lng   End_Lat    End_Lng  Distance(mi)  \\\n",
      "1         39.86542  -84.06280  39.86501  -84.04873         0.747   \n",
      "2         39.10266  -84.52468  39.10209  -84.52396         0.055   \n",
      "3         41.06213  -81.53784  41.06217  -81.53547         0.123   \n",
      "5         39.06324  -84.03243  39.06731  -84.05851         1.427   \n",
      "6         39.77565  -84.18603  39.77275  -84.18805         0.227   \n",
      "...            ...        ...       ...        ...           ...   \n",
      "2845337   34.00248 -117.37936  33.99888 -117.37094         0.543   \n",
      "2845338   32.76696 -117.14806  32.76555 -117.15363         0.338   \n",
      "2845339   33.77545 -117.84779  33.77740 -117.85727         0.561   \n",
      "2845340   33.99246 -118.40302  33.98311 -118.39565         0.772   \n",
      "2845341   34.13393 -117.23092  34.13736 -117.23934         0.537   \n",
      "\n",
      "                                               Description  ...  Roundabout  \\\n",
      "1                       At OH-4/OH-235/Exit 41 - Accident.  ...       False   \n",
      "2                         At I-71/US-50/Exit 1 - Accident.  ...       False   \n",
      "3                          At Dart Ave/Exit 21 - Accident.  ...       False   \n",
      "5                             At Dela Palma Rd - Accident.  ...       False   \n",
      "6                              At OH-4/Exit 54 - Accident.  ...       False   \n",
      "...                                                    ...  ...         ...   \n",
      "2845337                           At Market St - Accident.  ...       False   \n",
      "2845338    At Camino Del Rio/Mission Center Rd - Accident.  ...       False   \n",
      "2845339  At Glassell St/Grand Ave - Accident. in the ri...  ...       False   \n",
      "2845340     At CA-90/Marina Fwy/Jefferson Blvd - Accident.  ...       False   \n",
      "2845341              At Highland Ave/Arden Ave - Accident.  ...       False   \n",
      "\n",
      "        Station   Stop Traffic_Calming Traffic_Signal Turning_Loop  \\\n",
      "1         False  False           False          False        False   \n",
      "2         False  False           False          False        False   \n",
      "3         False  False           False          False        False   \n",
      "5         False  False           False           True        False   \n",
      "6         False  False           False          False        False   \n",
      "...         ...    ...             ...            ...          ...   \n",
      "2845337   False  False           False          False        False   \n",
      "2845338   False  False           False          False        False   \n",
      "2845339   False  False           False          False        False   \n",
      "2845340   False  False           False          False        False   \n",
      "2845341   False  False           False          False        False   \n",
      "\n",
      "        Sunrise_Sunset Civil_Twilight Nautical_Twilight Astronomical_Twilight  \n",
      "1                Night          Night             Night                 Night  \n",
      "2                Night          Night             Night                   Day  \n",
      "3                Night          Night               Day                   Day  \n",
      "5                  Day            Day               Day                   Day  \n",
      "6                  Day            Day               Day                   Day  \n",
      "...                ...            ...               ...                   ...  \n",
      "2845337            Day            Day               Day                   Day  \n",
      "2845338            Day            Day               Day                   Day  \n",
      "2845339            Day            Day               Day                   Day  \n",
      "2845340            Day            Day               Day                   Day  \n",
      "2845341            Day            Day               Day                   Day  \n",
      "\n",
      "[2532991 rows x 47 columns]\n",
      "%%%%%%%%%%%%%%%%%%%%%%%%%%%%%%%%%%%%%%%%%%%%%%%%%%%%%%%%%%%%%%%%%%%%%%%%%%%%%%%%%%%%\n",
      "[3 2 4 1]\n",
      "%%%%%%%%%%%%%%%%%%%%%%%%%%%%%%%%%%%%%%%%%%%%%%%%%%%%%%%%%%%%%%%%%%%%%%%%%%%%%%%%%%%%\n",
      "0\n"
     ]
    }
   ],
   "source": [
    "# Analyze values in column \"Severity\" (impact on traffic)\n",
    "filtered_data = full_dataset[full_dataset[\"Severity\"]==2]\n",
    "print(filtered_data)\n",
    "print(\"%%%%%%%%%%%%%%%%%%%%%%%%%%%%%%%%%%%%%%%%%%%%%%%%%%%%%%%%%%%%%%%%%%%%%%%%%%%%%%%%%%%%\")\n",
    "print(full_dataset[\"Severity\"].unique())\n",
    "print(\"%%%%%%%%%%%%%%%%%%%%%%%%%%%%%%%%%%%%%%%%%%%%%%%%%%%%%%%%%%%%%%%%%%%%%%%%%%%%%%%%%%%%\")\n",
    "# null values\n",
    "print(full_dataset[\"Severity\"].isnull().sum())"
   ]
  },
  {
   "cell_type": "code",
   "execution_count": 24,
   "metadata": {},
   "outputs": [
    {
     "name": "stdout",
     "output_type": "stream",
     "text": [
      "ID                                object\n",
      "Severity                           int64\n",
      "Start_Time                datetime64[ns]\n",
      "End_Time                  datetime64[ns]\n",
      "Start_Lat                        float64\n",
      "Start_Lng                        float64\n",
      "End_Lat                          float64\n",
      "End_Lng                          float64\n",
      "Distance(mi)                     float64\n",
      "Description                       object\n",
      "Number                           float64\n",
      "Street                            object\n",
      "Side                              object\n",
      "City                              object\n",
      "County                            object\n",
      "State                             object\n",
      "Zipcode                           object\n",
      "Country                           object\n",
      "Timezone                          object\n",
      "Airport_Code                      object\n",
      "Weather_Timestamp                 object\n",
      "Temperature(F)                   float64\n",
      "Wind_Chill(F)                    float64\n",
      "Humidity(%)                      float64\n",
      "Pressure(in)                     float64\n",
      "Visibility(mi)                   float64\n",
      "Wind_Direction                    object\n",
      "Wind_Speed(mph)                  float64\n",
      "Precipitation(in)                float64\n",
      "Weather_Condition                 object\n",
      "Amenity                             bool\n",
      "Bump                                bool\n",
      "Crossing                            bool\n",
      "Give_Way                            bool\n",
      "Junction                            bool\n",
      "No_Exit                             bool\n",
      "Railway                             bool\n",
      "Roundabout                          bool\n",
      "Station                             bool\n",
      "Stop                                bool\n",
      "Traffic_Calming                     bool\n",
      "Traffic_Signal                      bool\n",
      "Turning_Loop                        bool\n",
      "Sunrise_Sunset                    object\n",
      "Civil_Twilight                    object\n",
      "Nautical_Twilight                 object\n",
      "Astronomical_Twilight             object\n",
      "duration                 timedelta64[ns]\n",
      "dtype: object\n"
     ]
    }
   ],
   "source": [
    "all_types = full_dataset.dtypes\n",
    "print(all_types)"
   ]
  },
  {
   "cell_type": "code",
   "execution_count": 19,
   "metadata": {},
   "outputs": [
    {
     "name": "stdout",
     "output_type": "stream",
     "text": [
      "0\n",
      "%%%%%%%%%%%%%%%%%%%%%%%%%%%%%%%%%%%%%%%%%%%%%%%%%%%%%%%%%%%%%%%%%%%%%%%%%%%%%%%%%%%%\n",
      "0         2016-02-08 00:37:08\n",
      "1         2016-02-08 05:56:20\n",
      "2         2016-02-08 06:15:39\n",
      "3         2016-02-08 06:51:45\n",
      "4         2016-02-08 07:53:43\n",
      "                  ...        \n",
      "2845337   2019-08-23 18:03:25\n",
      "2845338   2019-08-23 19:11:30\n",
      "2845339   2019-08-23 19:00:21\n",
      "2845340   2019-08-23 19:00:21\n",
      "2845341   2019-08-23 18:52:06\n",
      "Name: Start_Time, Length: 2845342, dtype: datetime64[ns]\n"
     ]
    }
   ],
   "source": [
    "# Analyze values in column \"Start_Time\"\n",
    "# null values\n",
    "print(full_dataset[\"Start_Time\"].isnull().sum())\n",
    "print(\"%%%%%%%%%%%%%%%%%%%%%%%%%%%%%%%%%%%%%%%%%%%%%%%%%%%%%%%%%%%%%%%%%%%%%%%%%%%%%%%%%%%%\")\n",
    "#conversion from object to datetime64[ns]\n",
    "full_dataset[\"Start_Time\"] = pd.to_datetime(full_dataset[\"Start_Time\"])\n",
    "print(full_dataset[\"Start_Time\"])"
   ]
  },
  {
   "cell_type": "code",
   "execution_count": 20,
   "metadata": {},
   "outputs": [
    {
     "name": "stdout",
     "output_type": "stream",
     "text": [
      "0\n",
      "%%%%%%%%%%%%%%%%%%%%%%%%%%%%%%%%%%%%%%%%%%%%%%%%%%%%%%%%%%%%%%%%%%%%%%%%%%%%%%%%%%%%\n",
      "0         2016-02-08 06:37:08\n",
      "1         2016-02-08 11:56:20\n",
      "2         2016-02-08 12:15:39\n",
      "3         2016-02-08 12:51:45\n",
      "4         2016-02-08 13:53:43\n",
      "                  ...        \n",
      "2845337   2019-08-23 18:32:01\n",
      "2845338   2019-08-23 19:38:23\n",
      "2845339   2019-08-23 19:28:49\n",
      "2845340   2019-08-23 19:29:42\n",
      "2845341   2019-08-23 19:21:31\n",
      "Name: End_Time, Length: 2845342, dtype: datetime64[ns]\n"
     ]
    }
   ],
   "source": [
    "# Analyze values in column \"End_Time\"\n",
    "# null values\n",
    "print(full_dataset[\"End_Time\"].isnull().sum())\n",
    "print(\"%%%%%%%%%%%%%%%%%%%%%%%%%%%%%%%%%%%%%%%%%%%%%%%%%%%%%%%%%%%%%%%%%%%%%%%%%%%%%%%%%%%%\")\n",
    "#conversion from object to datetime64[ns]\n",
    "full_dataset[\"End_Time\"] = pd.to_datetime(full_dataset[\"End_Time\"])\n",
    "print(full_dataset[\"End_Time\"])"
   ]
  },
  {
   "cell_type": "code",
   "execution_count": 23,
   "metadata": {},
   "outputs": [
    {
     "name": "stdout",
     "output_type": "stream",
     "text": [
      "\n",
      "Difference of end time and start time :\n",
      " 0         0 days 06:00:00\n",
      "1         0 days 06:00:00\n",
      "2         0 days 06:00:00\n",
      "3         0 days 06:00:00\n",
      "4         0 days 06:00:00\n",
      "                ...      \n",
      "2845337   0 days 00:28:36\n",
      "2845338   0 days 00:26:53\n",
      "2845339   0 days 00:28:28\n",
      "2845340   0 days 00:29:21\n",
      "2845341   0 days 00:29:25\n",
      "Name: duration, Length: 2845342, dtype: timedelta64[ns]\n"
     ]
    }
   ],
   "source": [
    "# create column incidents duration (difference between end time and start time)\n",
    "full_dataset['duration'] = full_dataset['End_Time'] - full_dataset['Start_Time']\n",
    "print(\"\\nDifference of end time and start time :\\n\", full_dataset['duration'])"
   ]
  },
  {
   "cell_type": "code",
   "execution_count": 27,
   "metadata": {},
   "outputs": [
    {
     "name": "stdout",
     "output_type": "stream",
     "text": [
      "Null values for 'Start_Lat' 0\n",
      "Null values for 'Start_Lng' 0\n",
      "Null values for 'End_Lat' 0\n",
      "Null values for 'End_Lng' 0\n"
     ]
    }
   ],
   "source": [
    "# check null values for latitude and longitude\n",
    "print(\"Null values for 'Start_Lat'\",full_dataset[\"Start_Lat\"].isnull().sum())\n",
    "print(\"Null values for 'Start_Lng'\",full_dataset[\"Start_Lng\"].isnull().sum())\n",
    "print(\"Null values for 'End_Lat'\",full_dataset[\"End_Lat\"].isnull().sum())\n",
    "print(\"Null values for 'End_Lng'\",full_dataset[\"End_Lng\"].isnull().sum())\n",
    "\n",
    "# convert latitude and longitude to another type??? --> check software behaviours!"
   ]
  }
 ],
 "metadata": {
  "kernelspec": {
   "display_name": "Python 3.10.4 64-bit",
   "language": "python",
   "name": "python3"
  },
  "language_info": {
   "codemirror_mode": {
    "name": "ipython",
    "version": 3
   },
   "file_extension": ".py",
   "mimetype": "text/x-python",
   "name": "python",
   "nbconvert_exporter": "python",
   "pygments_lexer": "ipython3",
   "version": "3.10.4"
  },
  "orig_nbformat": 4,
  "vscode": {
   "interpreter": {
    "hash": "62108d3bcabba50a5551c94be0c58944c48365daffc285bf9efbbaced917d542"
   }
  }
 },
 "nbformat": 4,
 "nbformat_minor": 2
}
